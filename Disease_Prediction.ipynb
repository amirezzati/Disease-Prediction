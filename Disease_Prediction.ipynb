{
  "nbformat": 4,
  "nbformat_minor": 0,
  "metadata": {
    "colab": {
      "provenance": [],
      "authorship_tag": "ABX9TyOG2gEIj+2FtkgzQfo101LA",
      "include_colab_link": true
    },
    "kernelspec": {
      "name": "python3",
      "display_name": "Python 3"
    },
    "language_info": {
      "name": "python"
    }
  },
  "cells": [
    {
      "cell_type": "markdown",
      "metadata": {
        "id": "view-in-github",
        "colab_type": "text"
      },
      "source": [
        "<a href=\"https://colab.research.google.com/github/amirkasaei/Disease-Prediction/blob/main/Disease_Prediction.ipynb\" target=\"_parent\"><img src=\"https://colab.research.google.com/assets/colab-badge.svg\" alt=\"Open In Colab\"/></a>"
      ]
    },
    {
      "cell_type": "markdown",
      "source": [
        "# **Importing Libraries**"
      ],
      "metadata": {
        "id": "hEU4atsEnSGH"
      }
    },
    {
      "cell_type": "code",
      "execution_count": 193,
      "metadata": {
        "id": "SXQEda1nkSXz"
      },
      "outputs": [],
      "source": [
        "import tensorflow as tf\n",
        "import numpy as np\n",
        "from sklearn.preprocessing import LabelEncoder\n",
        "from sklearn.model_selection import train_test_split\n",
        "import pandas as pd\n",
        "from matplotlib import pyplot as plt\n",
        "from keras.models import Sequential, load_model\n",
        "from keras.layers import Dense, Input, Softmax, BatchNormalization, Dropout\n",
        "from keras.losses import CategoricalCrossentropy\n",
        "from keras.callbacks import ModelCheckpoint\n",
        "from google.colab import drive\n",
        "from keras.utils.np_utils import to_categorical\n",
        "import json"
      ]
    },
    {
      "cell_type": "code",
      "source": [
        "drive.mount('/content/drive')\n",
        "path = \"/content/drive/MyDrive/AI Projects/Disease-Prediction/\""
      ],
      "metadata": {
        "id": "oy5NhJVPlYEw"
      },
      "execution_count": null,
      "outputs": []
    },
    {
      "cell_type": "markdown",
      "source": [
        "# **Preprocessing Data**"
      ],
      "metadata": {
        "id": "9m1j8YpxnXWU"
      }
    },
    {
      "cell_type": "code",
      "source": [
        "dis_symp = pd.read_csv(path + 'Data/dataset.csv')\n",
        "dis_symp = dis_symp[:100]\n",
        "cols = dis_symp.columns[1:]\n",
        "symptoms = np.array(dis_symp[cols].values.tolist())\n",
        "print(symptoms.shape)\n",
        "symptoms = symptoms[symptoms != 'nan']\n",
        "print(symptoms.shape)"
      ],
      "metadata": {
        "colab": {
          "base_uri": "https://localhost:8080/"
        },
        "id": "G2FexCRu9s-7",
        "outputId": "5d5fde75-22c5-440d-c5dc-5285ea104454"
      },
      "execution_count": 113,
      "outputs": [
        {
          "output_type": "stream",
          "name": "stdout",
          "text": [
            "(100, 17)\n",
            "(481,)\n"
          ]
        }
      ]
    },
    {
      "cell_type": "code",
      "source": [
        "print(np.unique(symptoms).shape)"
      ],
      "metadata": {
        "colab": {
          "base_uri": "https://localhost:8080/"
        },
        "id": "q7yFJnj5-NKU",
        "outputId": "40bc09b5-5ffb-4a30-f78b-695fc3c8da1e"
      },
      "execution_count": 115,
      "outputs": [
        {
          "output_type": "stream",
          "name": "stdout",
          "text": [
            "(44,)\n"
          ]
        }
      ]
    },
    {
      "cell_type": "code",
      "source": [
        "training = pd.read_csv(path + 'Data/Training.csv')\n",
        "testing = pd.read_csv(path + 'Data/Testing.csv')\n",
        "\n",
        "cols= training.columns\n",
        "cols= cols[:-1]\n",
        "x = np.array(training[cols].values.tolist())\n",
        "\n",
        "y = np.array(training['prognosis'].values.tolist())\n",
        "le = LabelEncoder()\n",
        "le.fit(y)\n",
        "output_classes = le.classes_\n",
        "y = le.transform(y)\n",
        "y = y.reshape((-1, 1))\n",
        "y_OH = to_categorical(y, num_classes=len(output_classes))\n",
        "\n",
        "x_train, x_val, y_train, y_val = train_test_split(x, y_OH, test_size=0.20, random_state=42)"
      ],
      "metadata": {
        "id": "BAYw67Ysmqnw"
      },
      "execution_count": 215,
      "outputs": []
    },
    {
      "cell_type": "code",
      "source": [
        "print('classes: ', output_classes)\n",
        "\n",
        "import pickle\n",
        "file_ = open(path + 'Model/output_classes.pkl', \"wb\")\n",
        "pickle.dump(output_classes, file_)\n",
        "file_.close()"
      ],
      "metadata": {
        "colab": {
          "base_uri": "https://localhost:8080/"
        },
        "id": "UQyiLZKHB6CK",
        "outputId": "e5648f7f-3166-4ed6-815e-fc53e27d6188"
      },
      "execution_count": 217,
      "outputs": [
        {
          "output_type": "stream",
          "name": "stdout",
          "text": [
            "classes:  ['(vertigo) Paroymsal  Positional Vertigo' 'AIDS' 'Acne'\n",
            " 'Alcoholic hepatitis' 'Allergy' 'Arthritis' 'Bronchial Asthma'\n",
            " 'Cervical spondylosis' 'Chicken pox' 'Chronic cholestasis' 'Common Cold'\n",
            " 'Dengue' 'Diabetes ' 'Dimorphic hemmorhoids(piles)' 'Drug Reaction'\n",
            " 'Fungal infection' 'GERD' 'Gastroenteritis' 'Heart attack' 'Hepatitis B'\n",
            " 'Hepatitis C' 'Hepatitis D' 'Hepatitis E' 'Hypertension '\n",
            " 'Hyperthyroidism' 'Hypoglycemia' 'Hypothyroidism' 'Impetigo' 'Jaundice'\n",
            " 'Malaria' 'Migraine' 'Osteoarthristis' 'Paralysis (brain hemorrhage)'\n",
            " 'Peptic ulcer diseae' 'Pneumonia' 'Psoriasis' 'Tuberculosis' 'Typhoid'\n",
            " 'Urinary tract infection' 'Varicose veins' 'hepatitis A']\n"
          ]
        }
      ]
    },
    {
      "cell_type": "code",
      "source": [
        "print(y_OH[:2])"
      ],
      "metadata": {
        "colab": {
          "base_uri": "https://localhost:8080/"
        },
        "id": "Wc2lKHI_neA3",
        "outputId": "9bc87161-99bc-427b-da7e-65f9fc740fea"
      },
      "execution_count": 156,
      "outputs": [
        {
          "output_type": "stream",
          "name": "stdout",
          "text": [
            "[[0. 0. 0. 0. 0. 0. 0. 0. 0. 0. 0. 0. 0. 0. 0. 1. 0. 0. 0. 0. 0. 0. 0. 0.\n",
            "  0. 0. 0. 0. 0. 0. 0. 0. 0. 0. 0. 0. 0. 0. 0. 0. 0.]\n",
            " [0. 0. 0. 0. 0. 0. 0. 0. 0. 0. 0. 0. 0. 0. 0. 1. 0. 0. 0. 0. 0. 0. 0. 0.\n",
            "  0. 0. 0. 0. 0. 0. 0. 0. 0. 0. 0. 0. 0. 0. 0. 0. 0.]]\n"
          ]
        }
      ]
    },
    {
      "cell_type": "code",
      "source": [
        "print('x_train.shape = ', x_train.shape)\n",
        "print('y_train.shape = ', y_train.shape)\n",
        "print('x_test.shape = ', x_val.shape)\n",
        "print('y_test.shape = ', y_val.shape)"
      ],
      "metadata": {
        "colab": {
          "base_uri": "https://localhost:8080/"
        },
        "id": "AsBYMb5PC199",
        "outputId": "f6e02fa1-9351-41e6-b3ae-1b67b18274c6"
      },
      "execution_count": 182,
      "outputs": [
        {
          "output_type": "stream",
          "name": "stdout",
          "text": [
            "x_train.shape =  (3936, 132)\n",
            "y_train.shape =  (3936, 41)\n",
            "x_test.shape =  (984, 132)\n",
            "y_test.shape =  (984, 41)\n"
          ]
        }
      ]
    },
    {
      "cell_type": "markdown",
      "source": [
        "# **Neural Network**"
      ],
      "metadata": {
        "id": "pj5z5VbCEdlj"
      }
    },
    {
      "cell_type": "code",
      "source": [
        "input_size = x.shape[1]\n",
        "\n",
        "model = Sequential()\n",
        "model.add(Dense(90, input_shape=(input_size,), activation='relu'))\n",
        "model.add(Dense(70, activation='relu'))\n",
        "model.add(Dense(50, activation='relu'))\n",
        "model.add(Dense(41, activation='softmax'))\n",
        "\n",
        "checkpoint_filepath = path + '/Model/weights.hdf5'\n",
        "checkpoint = ModelCheckpoint(filepath=checkpoint_filepath, monitor='val_accuracy', mode='max', save_best_only=True, verbose=0)\n",
        "\n",
        "model.compile(loss='categorical_crossentropy', optimizer='adam', metrics=['accuracy'])"
      ],
      "metadata": {
        "id": "3F6iaZGqEY18"
      },
      "execution_count": 190,
      "outputs": []
    },
    {
      "cell_type": "code",
      "source": [
        "model.fit(x, y_OH, epochs=10, batch_size=256, validation_data=(x_val, y_val), verbose=1, callbacks=[checkpoint])"
      ],
      "metadata": {
        "id": "lcvTmIpNMO8A"
      },
      "execution_count": null,
      "outputs": []
    },
    {
      "cell_type": "code",
      "source": [
        "# test\n",
        "test = x[1200:1201]\n",
        "print(test)\n",
        "print(np.argmax(y_OH[1200]))\n",
        "print(np.argmax(model.predict(test, verbose=0)))"
      ],
      "metadata": {
        "colab": {
          "base_uri": "https://localhost:8080/"
        },
        "id": "j_8PFbddMvX3",
        "outputId": "c7489ac8-a752-4d76-9fc5-9e1a9025dead"
      },
      "execution_count": 235,
      "outputs": [
        {
          "output_type": "stream",
          "name": "stdout",
          "text": [
            "[[0 0 0 0 0 0 0 0 0 0 0 0 1 0 0 0 0 0 0 0 0 0 0 0 0 0 0 0 0 0 0 0 0 0 0 0\n",
            "  0 0 0 0 0 0 0 0 0 0 0 0 0 0 0 0 0 0 0 0 0 0 0 0 0 0 0 0 0 0 0 0 0 0 0 0\n",
            "  0 0 0 0 0 0 0 0 0 0 0 0 0 0 0 0 0 1 1 1 0 0 0 0 0 0 0 0 0 0 0 0 0 0 0 0\n",
            "  0 0 0 0 0 0 0 0 0 0 0 0 0 0 0 0 0 0 0 0 0 0 0 0]]\n",
            "38\n",
            "38\n"
          ]
        }
      ]
    },
    {
      "cell_type": "markdown",
      "source": [
        "# **Load model and use it**"
      ],
      "metadata": {
        "id": "ROubNpawcbZ-"
      }
    },
    {
      "cell_type": "code",
      "source": [
        "path = \"/content/drive/MyDrive/AI Projects/Disease-Prediction/\"\n",
        "model_loc = path + '/Model/weights.hdf5'\n",
        "classList_loc = path + 'Model/output_classes.pkl'\n",
        "\n",
        "# read output_classes using pickle\n",
        "file_ = open(classList_loc, \"rb\")\n",
        "output_classes = pickle.load(file_)\n",
        "file_.close()\n",
        "\n",
        "def predict(features):\n",
        "  model = load_model(model_loc)\n",
        "  result = model.predict(np.array([features]), verbose=0)\n",
        "  class_num = np.argmax(result)\n",
        "\n",
        "  return output_classes[class_num]"
      ],
      "metadata": {
        "id": "gOKWhhYEcjv_"
      },
      "execution_count": 233,
      "outputs": []
    },
    {
      "cell_type": "code",
      "source": [
        "print(x[0])\n",
        "print(output_classes[15])\n",
        "print(predict(x[0]))"
      ],
      "metadata": {
        "colab": {
          "base_uri": "https://localhost:8080/"
        },
        "id": "YuriExd_gHek",
        "outputId": "21328fef-27cb-4a0c-b2d7-5190c405c37f"
      },
      "execution_count": 234,
      "outputs": [
        {
          "output_type": "stream",
          "name": "stdout",
          "text": [
            "[1 1 1 0 0 0 0 0 0 0 0 0 0 0 0 0 0 0 0 0 0 0 0 0 0 0 0 0 0 0 0 0 0 0 0 0 0\n",
            " 0 0 0 0 0 0 0 0 0 0 0 0 0 0 0 0 0 0 0 0 0 0 0 0 0 0 0 0 0 0 0 0 0 0 0 0 0\n",
            " 0 0 0 0 0 0 0 0 0 0 0 0 0 0 0 0 0 0 0 0 0 0 0 0 0 0 0 0 1 0 0 0 0 0 0 0 0\n",
            " 0 0 0 0 0 0 0 0 0 0 0 0 0 0 0 0 0 0 0 0 0]\n",
            "Fungal infection\n",
            "Fungal infection\n"
          ]
        }
      ]
    }
  ]
}